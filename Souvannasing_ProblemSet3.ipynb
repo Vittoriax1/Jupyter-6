{
 "cells": [
  {
   "cell_type": "markdown",
   "metadata": {},
   "source": [
    "# DTA447: Problem Set 3\n",
    "\n",
    "Jennifer Souvannasing\n",
    "\n",
    "\n",
    "### Instructions\n",
    "\n",
    "* Address any `#YOUR CODE HERE` sections in Python, in Code Cells. Use as many Code Cells as you would like.\n",
    "* Adress any **QUESTION / YOUR ANSWER HERE** in English, in Markdown Cells. Please also feel free to use Markdown Cells to explain your answers."
   ]
  },
  {
   "cell_type": "code",
   "execution_count": 37,
   "metadata": {},
   "outputs": [],
   "source": [
    "## You are ONLY allowed to use the following libraries\n",
    "## DO NOT import anything else!\n",
    "import numpy as np\n",
    "import pandas as pd\n",
    "import matplotlib.pyplot as plt"
   ]
  },
  {
   "cell_type": "markdown",
   "metadata": {},
   "source": [
    "## Part I. _NumPy_ for Numerical Operations (30 Points)\n",
    "\n",
    "### A. Vector Operations (10 points)\n",
    "\n",
    "Create two vectors $\\mathbf{a} = [1, 3, 5, 7], \\mathbf{b} = [2, 4, 6, 8]$. Then, compute the [dot product](https://en.wikipedia.org/wiki/Dot_product) and [cross product](https://en.wikipedia.org/wiki/Cross_product) using the _numpy_ library."
   ]
  },
  {
   "cell_type": "code",
   "execution_count": 26,
   "metadata": {},
   "outputs": [
    {
     "name": "stdout",
     "output_type": "stream",
     "text": [
      "Vector 1: [1 3 5 7]\n",
      "Vector 2: [2 4 6 8]\n",
      "\n",
      "Dot Product: 100\n",
      "\n",
      "Cross Product:  [-2  4 -2]\n",
      "\n",
      "Cross Product of arrays of different lengths:  [18 -6 -2]\n"
     ]
    }
   ],
   "source": [
    "# Declaring the data\n",
    "\n",
    "a = [1, 3, 5, 7]\n",
    "b = [2, 4, 6, 8]\n",
    "c = [1, 3, 5, 7]\n",
    "d = [2, 4, 6]\n",
    "\n",
    "# Converting data into vectors\n",
    "\n",
    "vector1 = np.array(a)\n",
    "vector2 = np.array(b)\n",
    "vector3 = np.array(c)\n",
    "vector4 = np.array(d)\n",
    "\n",
    "# Ensuring that the vectors were done correctly here\n",
    "\n",
    "print(\"Vector 1: \" + str(vector1))\n",
    "print(\"Vector 2: \" + str(vector2))\n",
    "print() \n",
    "\n",
    "# Calculating the dot product in this section\n",
    "# Dot Prod = (a1 * b1 + a2 * b2 + a3 * b3 + a4 * b4)\n",
    "# This is scalar, meaning it will return 1 value\n",
    "# Verified this answer with a simple calculator\n",
    "\n",
    "dot_prod = vector1.dot(vector2)\n",
    "print(\"Dot Product: \" + str(dot_prod)) \n",
    "\n",
    "print()\n",
    "\n",
    "# Testing dot product with different lengths\n",
    "# This gives an error, and therefore, does not work.\n",
    "# dot_prod = vector3.dot(vector4)\n",
    "# print(\"Dot Product: \" + str(dot_prod)) \n",
    "\n",
    "# Calculating the cross product in this section\n",
    "# This is a vector product, meaning it will return a vector\n",
    "# According to multiple websites, the cross product can only be calculated with 2 or 3 values, not 4.\n",
    "# cross_prod = np.cross(vector1, vector2) returns errors\n",
    "# I also think that I am overthinking this too much.\n",
    "\n",
    "# Compute the cross product\n",
    "# Since the cross product is only defined for 3D vectors, we'll take the first three elements of each array and compute the cross product\n",
    "cross_product = np.cross(a[:3], b[:3])\n",
    "\n",
    "print(\"Cross Product: \", cross_product)\n",
    "print()\n",
    "\n",
    "# This is a test of different lengths\n",
    "cross_prod2 = np.cross(vector1[:2], vector2[:3])\n",
    "print(\"Cross Product of arrays of different lengths: \", cross_prod2)"
   ]
  },
  {
   "cell_type": "markdown",
   "metadata": {},
   "source": [
    "**QUESTION**: Do vectors `a` and `b` have to be the same length? Why? What will happen if they aren't equally long?\n",
    "\n",
    "**YOUR ANSWER HERE: (Double-click to edit)**\n",
    "<p>To take the dot product or cross product of two vectors, they must have the same number of elements. \n",
    "\n",
    "If the vectors are not of the same length, then you will get a ValueError from NumPy when you try to take the dot product or cross product. This is because these operations are not defined for vectors of different lengths. In the portion of code that is commented out, I attempted to calculate the dot product of vectors of different lengths. This produced errors.\n",
    "\n",
    "If the vectors have different lengths but you still want to perform a cross product, you can take the cross product of the first three elements of each vector. However, in this case, the resulting cross product will only be defined in the 3D space.\n",
    "\n",
    "In general, the cross product between two vectors is defined only for 3D vectors, and the result is a vector that is orthogonal to both vectors. If the two input vectors have different lengths, the cross product can still be calculated. However, the result may not be meaningful in all cases, and it's important to check that the result makes sense in the context of the problem you are trying to solve."
   ]
  },
  {
   "cell_type": "markdown",
   "metadata": {},
   "source": [
    "### B. Matrix Operations (20 points)\n",
    "\n",
    "Use Python to create the following matrix **P** and **Q**:\n",
    "\n",
    "$$\\mathbf{P} = \\left[ \\begin{matrix} 2 & 4 & 6\\\\ 3 & 5 & 7 \\\\ 6 & 8 & 10 \\end{matrix} \\right]$$\n",
    "\n",
    "$$\\mathbf{Q} = \\left[ \\begin{matrix} 1 & 3 & 5 \\\\ 2 & 4 & 6 \\\\ 3 & 5 & 7 \\end{matrix} \\right]$$\n",
    "\n",
    "\n",
    "Display each matrix. Then, perform the following operations:\n",
    "\n",
    "1. Element-wise multiplication (10 points)\n",
    "2. Matrix multipliation (10 points)\n",
    "\n",
    "_Hint: Make sure you are 100% clear on what each operation is and how they differ._ "
   ]
  },
  {
   "cell_type": "code",
   "execution_count": 22,
   "metadata": {},
   "outputs": [
    {
     "name": "stdout",
     "output_type": "stream",
     "text": [
      "Matrix P:\n",
      "2 4 6 \n",
      "3 5 7 \n",
      "6 8 10 \n",
      "\n",
      "Matrix Q:\n",
      "1 3 5 \n",
      "2 4 6 \n",
      "3 5 7 \n",
      "\n",
      "Element-wise Multiplication:\n",
      "[2, 12, 30]\n",
      "[6, 20, 42]\n",
      "[18, 40, 70]\n",
      "\n",
      "Matrix Multiplication:\n",
      "[[ 28  52  76]\n",
      " [ 34  64  94]\n",
      " [ 52 100 148]]\n"
     ]
    }
   ],
   "source": [
    "# Define two matrices\n",
    "matrix_p = [[2, 4, 6], [3, 5, 7], [6, 8, 10]]\n",
    "matrix_q = [[1, 3, 5], [2, 4, 6], [3, 5, 7]]\n",
    "\n",
    "# Print matrix1\n",
    "print(\"Matrix P:\")\n",
    "for row in matrix_p:\n",
    "    for element in row:\n",
    "        print(element, end=\" \")\n",
    "    print()\n",
    "\n",
    "print()\n",
    "\n",
    "# Print matrix2\n",
    "print(\"Matrix Q:\")\n",
    "for row in matrix_q:\n",
    "    for element in row:\n",
    "        print(element, end=\" \")\n",
    "    print()\n",
    "\n",
    "print()\n",
    "print('Element-wise Multiplication:')\n",
    "# create an empty result matrix\n",
    "result_matrix = [[0, 0, 0], [0, 0, 0], [0, 0, 0]]\n",
    "\n",
    "# Element-wise multiplication\n",
    "for i in range(3):\n",
    "    for j in range(3):\n",
    "        result_matrix[i][j] = matrix_p[i][j] * matrix_q[i][j]\n",
    "\n",
    "# print the result matrix\n",
    "for row in result_matrix:\n",
    "    print(row)\n",
    "\n",
    "print()\n",
    "\n",
    "# Matrix multiplication\n",
    "# Convert lists to arrays\n",
    "A_array = np.array(matrix_p)\n",
    "B_array = np.array(matrix_q)\n",
    "\n",
    "# Matrix multiplication\n",
    "C_array = A_array @ B_array\n",
    "\n",
    "# Print result\n",
    "print('Matrix Multiplication:')\n",
    "print(C_array)\n"
   ]
  },
  {
   "cell_type": "markdown",
   "metadata": {},
   "source": [
    "**QUESTION**: Are the results of the two matrix operations the same? Why or why not? (_Hint: Again, you may want to research on  the two operations_)\n",
    "\n",
    "**YOUR ANSWER HERE: (Double-click to edit)**<p>\n",
    "They are different. This is because the element-wise multiplication operation multiplies the corresponding elements in the P and Q matrices.\n",
    "\n",
    "On the other hand, matrix multiplication is a bit more complicated. In order to perform matrix multiplication, the number of columns of the first matrix must match the number of rows of the second matrix. In this example, both matrices are 3x3, so the number of rows and columns match. The resulting matrix will have the same number of rows as the first matrix and the same number of columns as the second matrix.\n",
    "\n",
    "Matrix multiplication is not commutative, which means that the order in which you multiply the matrices matters. In other words, AB is not equal to BA in general. The result of the matrix multiplication depends on the structure of the matrices being multiplied."
   ]
  },
  {
   "cell_type": "markdown",
   "metadata": {},
   "source": [
    "## Part II. Data Exploration with Pandas (35 Points)\n",
    "\n",
    "### A. CSV Data Loading (2.5 points)\n",
    "\n",
    "* Load the data `titanic.csv` into your Jupyter workspace using the _pandas_ library. The dataset can be downloaded from here: https://s3.amazonaws.com/content.udacity-data.com/courses/ud359/titanic_data.csv\n",
    "* Show a snapshot of your _pandas_ DataFrame."
   ]
  },
  {
   "cell_type": "code",
   "execution_count": 38,
   "metadata": {},
   "outputs": [
    {
     "name": "stdout",
     "output_type": "stream",
     "text": [
      "     PassengerId  Survived  Pclass  \\\n",
      "0              1         0       3   \n",
      "1              2         1       1   \n",
      "2              3         1       3   \n",
      "3              4         1       1   \n",
      "4              5         0       3   \n",
      "..           ...       ...     ...   \n",
      "886          887         0       2   \n",
      "887          888         1       1   \n",
      "888          889         0       3   \n",
      "889          890         1       1   \n",
      "890          891         0       3   \n",
      "\n",
      "                                                  Name     Sex   Age  SibSp  \\\n",
      "0                              Braund, Mr. Owen Harris    male  22.0      1   \n",
      "1    Cumings, Mrs. John Bradley (Florence Briggs Th...  female  38.0      1   \n",
      "2                               Heikkinen, Miss. Laina  female  26.0      0   \n",
      "3         Futrelle, Mrs. Jacques Heath (Lily May Peel)  female  35.0      1   \n",
      "4                             Allen, Mr. William Henry    male  35.0      0   \n",
      "..                                                 ...     ...   ...    ...   \n",
      "886                              Montvila, Rev. Juozas    male  27.0      0   \n",
      "887                       Graham, Miss. Margaret Edith  female  19.0      0   \n",
      "888           Johnston, Miss. Catherine Helen \"Carrie\"  female   NaN      1   \n",
      "889                              Behr, Mr. Karl Howell    male  26.0      0   \n",
      "890                                Dooley, Mr. Patrick    male  32.0      0   \n",
      "\n",
      "     Parch            Ticket     Fare Cabin Embarked  \n",
      "0        0         A/5 21171   7.2500   NaN        S  \n",
      "1        0          PC 17599  71.2833   C85        C  \n",
      "2        0  STON/O2. 3101282   7.9250   NaN        S  \n",
      "3        0            113803  53.1000  C123        S  \n",
      "4        0            373450   8.0500   NaN        S  \n",
      "..     ...               ...      ...   ...      ...  \n",
      "886      0            211536  13.0000   NaN        S  \n",
      "887      0            112053  30.0000   B42        S  \n",
      "888      2        W./C. 6607  23.4500   NaN        S  \n",
      "889      0            111369  30.0000  C148        C  \n",
      "890      0            370376   7.7500   NaN        Q  \n",
      "\n",
      "[891 rows x 12 columns]\n"
     ]
    }
   ],
   "source": [
    "titanic = pd.read_csv('https://s3.amazonaws.com/content.udacity-data.com/courses/ud359/titanic_data.csv')\n",
    "\n",
    "# Printing the dataframe\n",
    "print(titanic)"
   ]
  },
  {
   "cell_type": "markdown",
   "metadata": {},
   "source": [
    "### B. How many passengers (observations) are there in the dataset? (2.5 points)"
   ]
  },
  {
   "cell_type": "code",
   "execution_count": 29,
   "metadata": {},
   "outputs": [
    {
     "name": "stdout",
     "output_type": "stream",
     "text": [
      "Number of observations: 891\n"
     ]
    }
   ],
   "source": [
    "# Get the number of observations\n",
    "num_observations = titanic.shape[0]\n",
    "\n",
    "# Print the number of observations\n",
    "print(\"Number of observations:\", num_observations)"
   ]
  },
  {
   "cell_type": "markdown",
   "metadata": {},
   "source": [
    "### C. Query the DataFrame and answer the following questions (5 points)\n",
    "\n",
    "* How many passengers in `Pclass==2` survived?\n",
    "* How many passengers in `Pclass==3` did NOT survive?"
   ]
  },
  {
   "cell_type": "code",
   "execution_count": 30,
   "metadata": {},
   "outputs": [
    {
     "name": "stdout",
     "output_type": "stream",
     "text": [
      "Number of passengers in Pclass 2 who survived: 87\n",
      "Number of passengers in Pclass 3 who did not survive: 372\n"
     ]
    }
   ],
   "source": [
    "# To find the Pclass 2 survivors\n",
    "num_pclass2_survived = len(titanic[(titanic['Pclass'] == 2) & (titanic['Survived'] == 1)])\n",
    "print(\"Number of passengers in Pclass 2 who survived:\", num_pclass2_survived)\n",
    "\n",
    "# To find the Pclass 3 non-survivors\n",
    "num_pclass3_not_survived = len(titanic[(titanic['Pclass'] == 3) & (titanic['Survived'] == 0)])\n",
    "print(\"Number of passengers in Pclass 3 who did not survive:\", num_pclass3_not_survived)"
   ]
  },
  {
   "cell_type": "markdown",
   "metadata": {},
   "source": [
    "### D. Draw boxplots comparing the `Age` distribution between those who survived and those who did not (12.5 points).\n",
    "\n",
    "Be sure to properly label your axes! Use only Pandas or Matplotlib, but not any other packages."
   ]
  },
  {
   "cell_type": "code",
   "execution_count": 47,
   "metadata": {},
   "outputs": [
    {
     "data": {
      "image/png": "[encoded data removed]",
      "text/plain": [
       "<Figure size 640x480 with 1 Axes>"
      ]
     },
     "metadata": {},
     "output_type": "display_data"
    }
   ],
   "source": [
    "# Filter the data to only include rows where the passenger survived or did not survive\n",
    "survived = titanic[titanic['Survived'] == 1]\n",
    "not_survived = titanic[titanic['Survived'] == 0]\n",
    "\n",
    "# Create a boxplot of the age distribution for the two groups\n",
    "fig, ax = plt.subplots()\n",
    "bp = ax.boxplot([survived['Age'].dropna(), not_survived['Age'].dropna()], \n",
    "                labels=['Survived', 'Not Survived'], \n",
    "                patch_artist=True,\n",
    "                boxprops=dict(facecolor=\"skyblue\"),\n",
    "                whiskerprops=dict(color=\"black\", linestyle=\"--\"),\n",
    "                capprops=dict(color=\"black\"),\n",
    "                medianprops=dict(color=\"white\", linewidth=2),\n",
    "                flierprops=dict(marker=\"o\", markersize=5, markerfacecolor=\"red\"))\n",
    "bp['boxes'][1].set(color='orange')\n",
    "\n",
    "# Add a legend\n",
    "survived_box = plt.Rectangle((0,0),1,1,fc=\"skyblue\")\n",
    "not_survived_box = plt.Rectangle((0,0),1,1,fc=\"orange\")\n",
    "plt.legend([survived_box, not_survived_box], ['Survived', 'Not Survived'], loc='best')\n",
    "\n",
    "# Add axis labels and a title\n",
    "ax.grid(True)\n",
    "ax.set_xlabel('Survival Status')\n",
    "ax.set_ylabel('Age')\n",
    "ax.set_title('Age Distribution of Titanic Passengers')\n",
    "\n",
    "# Display the plot\n",
    "plt.show()"
   ]
  },
  {
   "cell_type": "markdown",
   "metadata": {},
   "source": [
    "**QUESTION:** Based on your boxplot, do you see any discernible differences in age between those who survived vs. those who did not?\n",
    "\n",
    "**YOUR ANSWER HERE: (Double-click to edit)**\n",
    "<p>Based on a visual inspection of the boxplots, it appears that minimum and maximum ages of the survivors is slightly lower than of the non survivors, not including the outliers as shown in red. The average age between both survivors and non-survivors seems to be very close if not the same, based on the grid lines. The spread of the boxplot data is tighter together with the Survivors group. To me, looking at the two boxplots, the ages of the survivors is lower than the non-survivors. "
   ]
  },
  {
   "cell_type": "markdown",
   "metadata": {},
   "source": [
    "### E. Draw a scatter plot showing the relationship between `Age` and `Fare` (12.5 points)\n",
    "\n",
    "Be sure to properly label your axes! Use only Pandas or Matplotlib."
   ]
  },
  {
   "cell_type": "code",
   "execution_count": 64,
   "metadata": {},
   "outputs": [
    {
     "data": {
      "image/png": "[encoded data removed]",
      "text/plain": [
       "<Figure size 1000x1000 with 1 Axes>"
      ]
     },
     "metadata": {},
     "output_type": "display_data"
    },
    {
     "name": "stdout",
     "output_type": "stream",
     "text": [
      "Correlation coefficient between Age and Fare: 0.09606669176903888\n"
     ]
    }
   ],
   "source": [
    "# Create a scatter plot of Age vs. Fare\n",
    "fig, ax = plt.subplots(figsize=(10, 10))\n",
    "ax.scatter(titanic['Age'], titanic['Fare'], c='g')\n",
    "ax.set_xlabel('Age')\n",
    "ax.set_ylabel('Fare')\n",
    "ax.set_title('Age vs. Fare')\n",
    "ax.grid(True)\n",
    "\n",
    "mean_fare = titanic['Fare'].mean()\n",
    "plt.axhline(mean_fare, c='red', label=\"Mean Fare\")\n",
    "plt.text(80, mean_fare, 'Mean Fare', ha='right', va='top', color='black')\n",
    "\n",
    "plt.show()\n",
    "\n",
    "# Pearson correlation coefficient\n",
    "corr = titanic['Age'].corr(titanic['Fare'])\n",
    "print('Correlation coefficient between Age and Fare:', corr)"
   ]
  },
  {
   "cell_type": "markdown",
   "metadata": {},
   "source": [
    "**QUESTION:** Based on your scatter plot, is there a clear correlation between `Age` and `Fare`? If so, does the correlation appear positive or negative? (You are allowed to use concepts covered in the previous Module and the prerequisite course MAT308 to answer this question.)\n",
    "\n",
    "\n",
    "**YOUR ANSWER HERE: (Double-click to edit)**\n",
    "<p>The scatter plot displays a red line which represents the mean fare paid. The majority of the data points appear to be clustered at or below the line, but there are also several points above it, indicating that some passengers paid more than the average fare. It seems that the younger and older passengers paid less, while there is no significant correlation between 'Age' and 'Fare', suggesting that the fare paid was not solely determined by the age of the passenger. \n",
    "\n",
    "After conducting some research, I discovered the Pearson correlation coefficient, which quantifies the linear relationship between two variables. The coefficient ranges between -1 and 1, with a value near 1 indicating a strong positive correlation and a value near -1 indicating a strong negative correlation. If the value is near 0, it suggests a lack of correlation. In this exercise, the Pearson correlation coefficient for 'Age' and 'Fare' is 0.096, which is far from 1. Based on this, it can be concluded that the correlation between 'Age' and 'Fare' is weak.\n",
    "    \n",
    "  "
   ]
  },
  {
   "cell_type": "markdown",
   "metadata": {},
   "source": [
    "## Part III: Object Oriented Programming (80 points)\n",
    "\n",
    "Here, you will be creating a class `CustomData` that can be used to create an instance as follows:\n",
    "\n",
    "```py\n",
    "dataset = CustomData([1,3,5,7, ...])\n",
    "```\n",
    "\n",
    "**Do NOT use ANY library or package for this part. Use built-in Python operations only.**\n",
    "\n",
    "\n",
    "### Tasks 1: Parent Class (25 points)\n",
    "\n",
    "1. Complete the constructor, which takes in a `data_list`\n",
    "2. Complete method 1: `calculate_mean` that calculates the unweighted mean or average\n",
    "3. Complete method 2: `calculate_sd` that calculates [Population Standard Deviation](https://www.khanacademy.org/math/statistics-probability/summarizing-quantitative-data/variance-standard-deviation-sample/a/population-and-sample-standard-deviation-review)\n",
    "\n",
    "_Hint: Each item here can be implemented in just 1 line of code!_"
   ]
  },
  {
   "cell_type": "code",
   "execution_count": 65,
   "metadata": {},
   "outputs": [],
   "source": [
    "class CustomData:\n",
    "    def __init__(self, data_list):\n",
    "        \"\"\" Constructor \"\"\"\n",
    "        self.data = data_list\n",
    "\n",
    "    def calculate_mean(self):\n",
    "        \"\"\" Calculates the mean of the data \"\"\"  \n",
    "        mean = sum(self.data) / len(self.data)\n",
    "        return mean\n",
    "\n",
    "    def calculate_sd(self):\n",
    "        \"\"\" Computes Population Standard Deviation \"\"\"\n",
    "        mean = self.calculate_mean()\n",
    "        variance = sum([(x - mean) ** 2 for x in self.data]) / len(self.data)\n",
    "        sd = variance ** 0.5\n",
    "        return sd"
   ]
  },
  {
   "cell_type": "markdown",
   "metadata": {},
   "source": [
    "### Task 2: Test the Parent Class (20 points)\n",
    "\n",
    "You must test the class by calling the method on the instantiated `population_data` object."
   ]
  },
  {
   "cell_type": "code",
   "execution_count": 66,
   "metadata": {},
   "outputs": [],
   "source": [
    "########################## DO NOT EDIT ##########################\n",
    "DATA = np.random.normal(0, 1, 1000)\n",
    "population_data = CustomData(DATA)\n",
    "#################################################################"
   ]
  },
  {
   "cell_type": "code",
   "execution_count": 97,
   "metadata": {},
   "outputs": [
    {
     "name": "stdout",
     "output_type": "stream",
     "text": [
      "Population Mean:  -0.0066879144030016\n"
     ]
    }
   ],
   "source": [
    "# Calcuate the mean of population_data object\n",
    "print('Population Mean: ', population_data.calculate_mean())"
   ]
  },
  {
   "cell_type": "code",
   "execution_count": 99,
   "metadata": {},
   "outputs": [
    {
     "name": "stdout",
     "output_type": "stream",
     "text": [
      "Population Standard Deviation:  1.0299699469768113\n"
     ]
    }
   ],
   "source": [
    "# Calcuate the Population Standard Deviation of population_data object\n",
    "print(\"Population Standard Deviation: \", population_data.calculate_sd())"
   ]
  },
  {
   "cell_type": "markdown",
   "metadata": {},
   "source": [
    "### Task 3: Child Class and Override Method (20 points)\n",
    "\n",
    "Now, create a child class `CustomSample`. All attributes and methods should be the same. However, change (override) the `calculate_sd` method such that it now computes [Sample Standard Deviation](https://www.khanacademy.org/math/statistics-probability/summarizing-quantitative-data/variance-standard-deviation-sample/a/population-and-sample-standard-deviation-review) instead."
   ]
  },
  {
   "cell_type": "code",
   "execution_count": 93,
   "metadata": {},
   "outputs": [],
   "source": [
    "## Create the CustomSample class\n",
    "## DO NOT USE ANY PACKAGE\n",
    "class CustomSample(CustomData):\n",
    "    def __init__(self, data_list):\n",
    "        CustomData.__init__(self, data_list)\n",
    "        \n",
    "    def calculate_mean(self):\n",
    "        \"\"\" Calculates the mean of the data \"\"\"\n",
    "        n = len(self.data)\n",
    "        mean = sum(self.data) / n\n",
    "        return mean\n",
    "\n",
    "    def calculate_sd(self):\n",
    "        \"\"\" Computes Sample Standard Deviation \"\"\"\n",
    "        n = len(self.data)\n",
    "        mean = self.calculate_mean()\n",
    "        deviations = [(x - mean) ** 2 for x in self.data]\n",
    "        sample_var = sum(deviations) / (n - 1)\n",
    "        sample_sd = sample_var ** 0.5\n",
    "        return sample_sd"
   ]
  },
  {
   "cell_type": "markdown",
   "metadata": {
    "tags": []
   },
   "source": [
    "### Task 4 Test the Child Class (10 points)\n",
    "\n",
    "You must test the class by calling the method on the instantiated `sample_data` object."
   ]
  },
  {
   "cell_type": "code",
   "execution_count": 94,
   "metadata": {},
   "outputs": [],
   "source": [
    "########################## DO NOT EDIT ##########################\n",
    "sample_data = CustomSample(DATA)\n",
    "#################################################################"
   ]
  },
  {
   "cell_type": "code",
   "execution_count": 95,
   "metadata": {},
   "outputs": [
    {
     "name": "stdout",
     "output_type": "stream",
     "text": [
      "Sample Mean:  -0.0066879144030016\n"
     ]
    }
   ],
   "source": [
    "# Calcuate the mean of sample_data object\n",
    "print(\"Sample Mean: \", sample_data.calculate_mean())"
   ]
  },
  {
   "cell_type": "code",
   "execution_count": 96,
   "metadata": {},
   "outputs": [
    {
     "name": "stdout",
     "output_type": "stream",
     "text": [
      "Sample Standard Deviation:  1.0304853185111773\n"
     ]
    }
   ],
   "source": [
    "# Calcuate the Sample Standard Deviation of sample_data object\n",
    "print(\"Sample Standard Deviation: \", sample_data.calculate_sd())"
   ]
  },
  {
   "cell_type": "markdown",
   "metadata": {},
   "source": [
    "### Task 5 (5 points)\n",
    "\n",
    "Compare the mean and standard deviation between `population_data` and `sample_data` objects. Describe how they are similar (same) and how they are different.\n",
    "\n",
    "**YOUR ANSWER HERE: (Double-click to edit)**\n",
    "<p>The mean for both the population_data and sample_data objects are the same, which is -0.0066879144030016. This is as expected, since the sample is randomly drawn from the population and should be representative of the population.\n",
    "\n",
    "However, the standard deviations for the population_data and sample_data objects are different. The sample standard deviation is 1.0304853185111773 and the population standard deviation is 1.0299699469768113. This is expected, since the sample standard deviation is generally an estimate of the population standard deviation and can vary based on the size and variability of the sample. In this case, the sample standard deviation is slightly larger than the population standard deviation, which is reasonable given that the sample size is relatively small (1000)."
   ]
  },
  {
   "cell_type": "code",
   "execution_count": null,
   "metadata": {},
   "outputs": [],
   "source": []
  }
 ],
 "metadata": {
  "kernelspec": {
   "display_name": "Python 3 (ipykernel)",
   "language": "python",
   "name": "python3"
  },
  "language_info": {
   "codemirror_mode": {
    "name": "ipython",
    "version": 3
   },
   "file_extension": ".py",
   "mimetype": "text/x-python",
   "name": "python",
   "nbconvert_exporter": "python",
   "pygments_lexer": "ipython3",
   "version": "3.9.13"
  }
 },
 "nbformat": 4,
 "nbformat_minor": 4
}
